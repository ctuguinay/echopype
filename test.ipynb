{
  "cells": [
    {
      "cell_type": "code",
      "execution_count": 1,
      "metadata": {},
      "outputs": [],
      "source": [
        "# Import packages\n",
        "import configparser\n",
        "from pathlib import Path\n",
        "import warnings\n",
        "\n",
        "import s3fs\n",
        "from tqdm import tqdm\n",
        "import pynmea2\n",
        "import numpy as np\n",
        "\n",
        "import echopype as ep\n",
        "\n",
        "# Convert warnings to exceptions\n",
        "# warnings.simplefilter('error')"
      ]
    },
    {
      "cell_type": "code",
      "execution_count": 2,
      "metadata": {},
      "outputs": [],
      "source": [
        "config = configparser.ConfigParser()\n",
        "config.read(\"/home/exouser/\" / Path(\"secrets/credentials\"))\n",
        "fs = s3fs.S3FileSystem(\n",
        "    key=config[\"hake_osn\"][\"osn_access_key_id\"],\n",
        "    secret=config[\"hake_osn\"][\"osn_secret_access_key\"],\n",
        "    endpoint_url=\"https://sdsc.osn.xsede.org\",\n",
        ")"
      ]
    },
    {
      "cell_type": "code",
      "execution_count": 15,
      "metadata": {},
      "outputs": [],
      "source": [
        "raw_file_list = fs.glob(\"agr230002-bucket01/hake_raw_survey_data/2023/Hake*.raw\")"
      ]
    },
    {
      "cell_type": "code",
      "execution_count": 3,
      "metadata": {},
      "outputs": [],
      "source": [
        "ek80_parser = ep.convert.ParseEK80(\n",
        "    file=f\"s3://agr230002-bucket01/hake_raw_survey_data/2023/Hake-D20230623-T193725.raw\",\n",
        "    sonar_model=\"EK80\",\n",
        "    storage_options={\n",
        "        \"key\": config[\"hake_osn\"][\"osn_access_key_id\"],\n",
        "        \"secret\": config[\"hake_osn\"][\"osn_secret_access_key\"],\n",
        "        \"endpoint_url\": \"https://sdsc.osn.xsede.org\",\n",
        "    },\n",
        ")\n",
        "ek80_parser.parse_raw()"
      ]
    },
    {
      "cell_type": "code",
      "execution_count": 4,
      "metadata": {},
      "outputs": [
        {
          "name": "stdout",
          "output_type": "stream",
          "text": [
            "$GPGLL,4437.586,N,768$$.$$$,W,193027,A\n"
          ]
        }
      ],
      "source": [
        "NMEA_SENTENCE_DEFAULT = [\"GGA\", \"GLL\", \"RMC\"]\n",
        "messages = [string[3:6] for string in ek80_parser.nmea[\"nmea_string\"]]\n",
        "idx_loc = np.argwhere(np.isin(messages, NMEA_SENTENCE_DEFAULT)).squeeze()\n",
        "if idx_loc.size == 1:  # in case of only 1 matching message\n",
        "    idx_loc = np.expand_dims(idx_loc, axis=0)\n",
        "for x in idx_loc:\n",
        "    try:\n",
        "        \n",
        "        pynmea2.parse(ek80_parser.nmea[\"nmea_string\"][x]).longitude\n",
        "    except:\n",
        "        print(ek80_parser.nmea[\"nmea_string\"][x])"
      ]
    },
    {
      "cell_type": "code",
      "execution_count": 24,
      "metadata": {},
      "outputs": [
        {
          "name": "stdout",
          "output_type": "stream",
          "text": [
            "$GPGLL,4437.5855,N,12402.8847,W,193725.00,A,D\n"
          ]
        }
      ],
      "source": [
        "print(ek80_parser.nmea[\"nmea_string\"][idx_loc[4]])"
      ]
    },
    {
      "cell_type": "code",
      "execution_count": 3,
      "metadata": {},
      "outputs": [
        {
          "name": "stderr",
          "output_type": "stream",
          "text": [
            "/home/exouser/echopype/echopype/convert/set_groups_base.py:212: UserWarning: At least one longitude entry is problematic and are assigned None in the converted data: Geographic coordinate value '768$$.$$$' is not valid DDDMM.MMM\n",
            "  warnings.warn(\n"
          ]
        }
      ],
      "source": [
        "ed = ep.open_raw(\n",
        "    raw_file=f\"s3://agr230002-bucket01/hake_raw_survey_data/2023/Hake-D20230623-T193725.raw\",\n",
        "    sonar_model=\"EK80\",\n",
        "    storage_options={\n",
        "        \"key\": config[\"hake_osn\"][\"osn_access_key_id\"],\n",
        "        \"secret\": config[\"hake_osn\"][\"osn_secret_access_key\"],\n",
        "        \"endpoint_url\": \"https://sdsc.osn.xsede.org\",\n",
        "    },\n",
        ")"
      ]
    },
    {
      "cell_type": "code",
      "execution_count": null,
      "metadata": {},
      "outputs": [],
      "source": [
        "ed"
      ]
    },
    {
      "cell_type": "code",
      "execution_count": 25,
      "metadata": {},
      "outputs": [
        {
          "name": "stderr",
          "output_type": "stream",
          "text": [
            "  1%|          | 57/8265 [03:53<9:23:04,  4.12s/it] "
          ]
        },
        {
          "name": "stdout",
          "output_type": "stream",
          "text": [
            "Warning encountered with file: agr230002-bucket01/hake_raw_survey_data/2023/Hake-D20230623-T193725.raw\n",
            "Warning details: At least one longitude entry is problematic and are assigned None in the converted data: Geographic coordinate value '768$$.$$$' is not valid DDDMM.MMM\n"
          ]
        },
        {
          "name": "stderr",
          "output_type": "stream",
          "text": [
            "  1%|          | 75/8265 [05:07<9:05:13,  3.99s/it]"
          ]
        },
        {
          "name": "stdout",
          "output_type": "stream",
          "text": [
            "Warning encountered with file: agr230002-bucket01/hake_raw_survey_data/2023/Hake-D20230623-T205008.raw\n",
            "Warning details: At least one longitude entry is problematic and are assigned None in the converted data: Geographic coordinate value '768$$.$$$' is not valid DDDMM.MMM\n"
          ]
        },
        {
          "name": "stderr",
          "output_type": "stream",
          "text": [
            "  1%|          | 76/8265 [05:11<8:35:18,  3.78s/it]"
          ]
        },
        {
          "name": "stdout",
          "output_type": "stream",
          "text": [
            "Warning encountered with file: agr230002-bucket01/hake_raw_survey_data/2023/Hake-D20230623-T205410.raw\n",
            "Warning details: At least one latitude entry is problematic and are assigned None in the converted data: Geographic coordinate value '68$$.$$$' is not valid DDDMM.MMM\n"
          ]
        },
        {
          "name": "stderr",
          "output_type": "stream",
          "text": [
            "  1%|          | 86/8265 [05:51<8:58:36,  3.95s/it]"
          ]
        },
        {
          "name": "stdout",
          "output_type": "stream",
          "text": [
            "Warning encountered with file: agr230002-bucket01/hake_raw_survey_data/2023/Hake-D20230623-T213436.raw\n",
            "Warning details: At least one longitude entry is problematic and are assigned None in the converted data: Geographic coordinate value '768$$.$$$' is not valid DDDMM.MMM\n"
          ]
        },
        {
          "name": "stderr",
          "output_type": "stream",
          "text": [
            "  1%|          | 89/8265 [06:03<8:49:59,  3.89s/it]"
          ]
        },
        {
          "name": "stdout",
          "output_type": "stream",
          "text": [
            "Warning encountered with file: agr230002-bucket01/hake_raw_survey_data/2023/Hake-D20230623-T214646.raw\n",
            "Warning details: At least one longitude entry is problematic and are assigned None in the converted data: Geographic coordinate value '768$$.$$$' is not valid DDDMM.MMM\n"
          ]
        },
        {
          "name": "stderr",
          "output_type": "stream",
          "text": [
            "  2%|\u258f         | 124/8265 [08:30<8:56:00,  3.95s/it] "
          ]
        },
        {
          "name": "stdout",
          "output_type": "stream",
          "text": [
            "Warning encountered with file: agr230002-bucket01/hake_raw_survey_data/2023/Hake-D20230624-T000840.raw\n",
            "Warning details: At least one latitude entry is problematic and are assigned None in the converted data: Geographic coordinate value '68$$.$$$' is not valid DDDMM.MMM\n"
          ]
        },
        {
          "name": "stderr",
          "output_type": "stream",
          "text": [
            "  2%|\u258f         | 127/8265 [08:41<8:44:21,  3.87s/it]"
          ]
        },
        {
          "name": "stdout",
          "output_type": "stream",
          "text": [
            "Warning encountered with file: agr230002-bucket01/hake_raw_survey_data/2023/Hake-D20230624-T002051.raw\n",
            "Warning details: At least one longitude entry is problematic and are assigned None in the converted data: Geographic coordinate value '768$$.$$$' is not valid DDDMM.MMM\n"
          ]
        },
        {
          "name": "stderr",
          "output_type": "stream",
          "text": [
            "  2%|\u258f         | 134/8265 [09:09<8:40:19,  3.84s/it]"
          ]
        },
        {
          "name": "stdout",
          "output_type": "stream",
          "text": [
            "Warning encountered with file: agr230002-bucket01/hake_raw_survey_data/2023/Hake-D20230624-T004912.raw\n",
            "Warning details: At least one longitude entry is problematic and are assigned None in the converted data: Geographic coordinate value '768$$.$$$' is not valid DDDMM.MMM\n"
          ]
        },
        {
          "name": "stderr",
          "output_type": "stream",
          "text": [
            "  2%|\u258f         | 145/8265 [09:53<8:41:35,  3.85s/it]"
          ]
        },
        {
          "name": "stdout",
          "output_type": "stream",
          "text": [
            "Warning encountered with file: agr230002-bucket01/hake_raw_survey_data/2023/Hake-D20230624-T013407.raw\n",
            "Warning details: At least one latitude entry is problematic and are assigned None in the converted data: Geographic coordinate value '68$$.$$$' is not valid DDDMM.MMM\n"
          ]
        },
        {
          "name": "stderr",
          "output_type": "stream",
          "text": [
            "  2%|\u258f         | 181/8265 [12:25<9:27:07,  4.21s/it] "
          ]
        },
        {
          "name": "stdout",
          "output_type": "stream",
          "text": [
            "Warning encountered with file: agr230002-bucket01/hake_raw_survey_data/2023/Hake-D20230624-T040141.raw\n",
            "Warning details: At least one latitude entry is problematic and are assigned None in the converted data: Geographic coordinate value '68$$.$$$' is not valid DDDMM.MMM\n"
          ]
        },
        {
          "name": "stderr",
          "output_type": "stream",
          "text": [
            "  2%|\u258f         | 194/8265 [13:19<8:42:41,  3.89s/it]"
          ]
        },
        {
          "name": "stdout",
          "output_type": "stream",
          "text": [
            "Warning encountered with file: agr230002-bucket01/hake_raw_survey_data/2023/Hake-D20230624-T045512.raw\n",
            "Warning details: At least one longitude entry is problematic and are assigned None in the converted data: Geographic coordinate value '768$$.$$$' is not valid DDDMM.MMM\n"
          ]
        },
        {
          "name": "stderr",
          "output_type": "stream",
          "text": [
            "  2%|\u258f         | 205/8265 [14:04<8:44:06,  3.90s/it]"
          ]
        },
        {
          "name": "stdout",
          "output_type": "stream",
          "text": [
            "Warning encountered with file: agr230002-bucket01/hake_raw_survey_data/2023/Hake-D20230624-T054034.raw\n",
            "Warning details: At least one latitude entry is problematic and are assigned None in the converted data: Geographic coordinate value '68$$.$$$' is not valid DDDMM.MMM\n"
          ]
        },
        {
          "name": "stderr",
          "output_type": "stream",
          "text": [
            "  3%|\u258e         | 227/8265 [15:36<8:46:53,  3.93s/it]"
          ]
        },
        {
          "name": "stdout",
          "output_type": "stream",
          "text": [
            "Warning encountered with file: agr230002-bucket01/hake_raw_survey_data/2023/Hake-D20230624-T074753.raw\n",
            "Warning details: At least one longitude entry is problematic and are assigned None in the converted data: Geographic coordinate value '768$$.$$$' is not valid DDDMM.MMM\n"
          ]
        },
        {
          "name": "stderr",
          "output_type": "stream",
          "text": [
            "  3%|\u258e         | 253/8265 [17:30<9:14:11,  4.15s/it]\n"
          ]
        },
        {
          "ename": "KeyboardInterrupt",
          "evalue": "",
          "output_type": "error",
          "traceback": [
            "\u001b[0;31m---------------------------------------------------------------------------\u001b[0m",
            "\u001b[0;31mKeyboardInterrupt\u001b[0m                         Traceback (most recent call last)",
            "Cell \u001b[0;32mIn[25], line 3\u001b[0m\n\u001b[1;32m      1\u001b[0m \u001b[38;5;28;01mfor\u001b[39;00m raw_file \u001b[38;5;129;01min\u001b[39;00m tqdm(raw_file_list):\n\u001b[1;32m      2\u001b[0m     \u001b[38;5;28;01mtry\u001b[39;00m:\n\u001b[0;32m----> 3\u001b[0m         ed \u001b[38;5;241m=\u001b[39m \u001b[43mep\u001b[49m\u001b[38;5;241;43m.\u001b[39;49m\u001b[43mopen_raw\u001b[49m\u001b[43m(\u001b[49m\n\u001b[1;32m      4\u001b[0m \u001b[43m            \u001b[49m\u001b[43mraw_file\u001b[49m\u001b[38;5;241;43m=\u001b[39;49m\u001b[38;5;124;43mf\u001b[39;49m\u001b[38;5;124;43m\"\u001b[39;49m\u001b[38;5;124;43ms3://\u001b[39;49m\u001b[38;5;132;43;01m{\u001b[39;49;00m\u001b[43mraw_file\u001b[49m\u001b[38;5;132;43;01m}\u001b[39;49;00m\u001b[38;5;124;43m\"\u001b[39;49m\u001b[43m,\u001b[49m\n\u001b[1;32m      5\u001b[0m \u001b[43m            \u001b[49m\u001b[43msonar_model\u001b[49m\u001b[38;5;241;43m=\u001b[39;49m\u001b[38;5;124;43m\"\u001b[39;49m\u001b[38;5;124;43mEK80\u001b[39;49m\u001b[38;5;124;43m\"\u001b[39;49m\u001b[43m,\u001b[49m\n\u001b[1;32m      6\u001b[0m \u001b[43m            \u001b[49m\u001b[43mstorage_options\u001b[49m\u001b[38;5;241;43m=\u001b[39;49m\u001b[43m{\u001b[49m\n\u001b[1;32m      7\u001b[0m \u001b[43m                \u001b[49m\u001b[38;5;124;43m\"\u001b[39;49m\u001b[38;5;124;43mkey\u001b[39;49m\u001b[38;5;124;43m\"\u001b[39;49m\u001b[43m:\u001b[49m\u001b[43m \u001b[49m\u001b[43mconfig\u001b[49m\u001b[43m[\u001b[49m\u001b[38;5;124;43m\"\u001b[39;49m\u001b[38;5;124;43mhake_osn\u001b[39;49m\u001b[38;5;124;43m\"\u001b[39;49m\u001b[43m]\u001b[49m\u001b[43m[\u001b[49m\u001b[38;5;124;43m\"\u001b[39;49m\u001b[38;5;124;43mosn_access_key_id\u001b[39;49m\u001b[38;5;124;43m\"\u001b[39;49m\u001b[43m]\u001b[49m\u001b[43m,\u001b[49m\n\u001b[1;32m      8\u001b[0m \u001b[43m                \u001b[49m\u001b[38;5;124;43m\"\u001b[39;49m\u001b[38;5;124;43msecret\u001b[39;49m\u001b[38;5;124;43m\"\u001b[39;49m\u001b[43m:\u001b[49m\u001b[43m \u001b[49m\u001b[43mconfig\u001b[49m\u001b[43m[\u001b[49m\u001b[38;5;124;43m\"\u001b[39;49m\u001b[38;5;124;43mhake_osn\u001b[39;49m\u001b[38;5;124;43m\"\u001b[39;49m\u001b[43m]\u001b[49m\u001b[43m[\u001b[49m\u001b[38;5;124;43m\"\u001b[39;49m\u001b[38;5;124;43mosn_secret_access_key\u001b[39;49m\u001b[38;5;124;43m\"\u001b[39;49m\u001b[43m]\u001b[49m\u001b[43m,\u001b[49m\n\u001b[1;32m      9\u001b[0m \u001b[43m                \u001b[49m\u001b[38;5;124;43m\"\u001b[39;49m\u001b[38;5;124;43mendpoint_url\u001b[39;49m\u001b[38;5;124;43m\"\u001b[39;49m\u001b[43m:\u001b[49m\u001b[43m \u001b[49m\u001b[38;5;124;43m\"\u001b[39;49m\u001b[38;5;124;43mhttps://sdsc.osn.xsede.org\u001b[39;49m\u001b[38;5;124;43m\"\u001b[39;49m\u001b[43m,\u001b[49m\n\u001b[1;32m     10\u001b[0m \u001b[43m            \u001b[49m\u001b[43m}\u001b[49m\u001b[43m,\u001b[49m\n\u001b[1;32m     11\u001b[0m \u001b[43m        \u001b[49m\u001b[43m)\u001b[49m\n\u001b[1;32m     12\u001b[0m     \u001b[38;5;28;01mexcept\u001b[39;00m \u001b[38;5;167;01mWarning\u001b[39;00m \u001b[38;5;28;01mas\u001b[39;00m w:\n\u001b[1;32m     13\u001b[0m         \u001b[38;5;28mprint\u001b[39m(\u001b[38;5;124mf\u001b[39m\u001b[38;5;124m\"\u001b[39m\u001b[38;5;124mWarning encountered with file: \u001b[39m\u001b[38;5;132;01m{\u001b[39;00mraw_file\u001b[38;5;132;01m}\u001b[39;00m\u001b[38;5;124m\"\u001b[39m)\n",
            "File \u001b[0;32m~/echopype/echopype/utils/prov.py:237\u001b[0m, in \u001b[0;36madd_processing_level.<locals>.wrapper.<locals>.inner\u001b[0;34m(*args, **kwargs)\u001b[0m\n\u001b[1;32m    235\u001b[0m \u001b[38;5;129m@functools\u001b[39m\u001b[38;5;241m.\u001b[39mwraps(func)\n\u001b[1;32m    236\u001b[0m \u001b[38;5;28;01mdef\u001b[39;00m \u001b[38;5;21minner\u001b[39m(\u001b[38;5;241m*\u001b[39margs, \u001b[38;5;241m*\u001b[39m\u001b[38;5;241m*\u001b[39mkwargs):\n\u001b[0;32m--> 237\u001b[0m     dataobj \u001b[38;5;241m=\u001b[39m \u001b[43mfunc\u001b[49m\u001b[43m(\u001b[49m\u001b[38;5;241;43m*\u001b[39;49m\u001b[43margs\u001b[49m\u001b[43m,\u001b[49m\u001b[43m \u001b[49m\u001b[38;5;241;43m*\u001b[39;49m\u001b[38;5;241;43m*\u001b[39;49m\u001b[43mkwargs\u001b[49m\u001b[43m)\u001b[49m\n\u001b[1;32m    238\u001b[0m     \u001b[38;5;28;01mif\u001b[39;00m is_echodata:\n\u001b[1;32m    239\u001b[0m         ed \u001b[38;5;241m=\u001b[39m dataobj\n",
            "File \u001b[0;32m~/echopype/echopype/convert/api.py:516\u001b[0m, in \u001b[0;36mopen_raw\u001b[0;34m(raw_file, sonar_model, xml_path, include_bot, include_idx, convert_params, storage_options, use_swap, max_chunk_size)\u001b[0m\n\u001b[1;32m    513\u001b[0m tree_dict[\u001b[38;5;124m\"\u001b[39m\u001b[38;5;124mSonar\u001b[39m\u001b[38;5;124m\"\u001b[39m] \u001b[38;5;241m=\u001b[39m \u001b[38;5;28;01mNone\u001b[39;00m\n\u001b[1;32m    515\u001b[0m \u001b[38;5;66;03m# Set multi beam groups\u001b[39;00m\n\u001b[0;32m--> 516\u001b[0m beam_groups \u001b[38;5;241m=\u001b[39m \u001b[43msetgrouper\u001b[49m\u001b[38;5;241;43m.\u001b[39;49m\u001b[43mset_beam\u001b[49m\u001b[43m(\u001b[49m\u001b[43m)\u001b[49m\n\u001b[1;32m    518\u001b[0m beam_group_type \u001b[38;5;241m=\u001b[39m []\n\u001b[1;32m    519\u001b[0m \u001b[38;5;28;01mfor\u001b[39;00m idx, beam_group \u001b[38;5;129;01min\u001b[39;00m \u001b[38;5;28menumerate\u001b[39m(beam_groups, start\u001b[38;5;241m=\u001b[39m\u001b[38;5;241m1\u001b[39m):\n",
            "File \u001b[0;32m~/echopype/echopype/convert/set_groups_ek80.py:1163\u001b[0m, in \u001b[0;36mSetGroupsEK80.set_beam\u001b[0;34m(self)\u001b[0m\n\u001b[1;32m   1161\u001b[0m         ds_beam_power \u001b[38;5;241m=\u001b[39m \u001b[38;5;28mself\u001b[39m\u001b[38;5;241m.\u001b[39mmerge_save(ds_power, ds_invariant_power)\n\u001b[1;32m   1162\u001b[0m \u001b[38;5;28;01melse\u001b[39;00m:\n\u001b[0;32m-> 1163\u001b[0m     ds_beam \u001b[38;5;241m=\u001b[39m \u001b[38;5;28;43mself\u001b[39;49m\u001b[38;5;241;43m.\u001b[39;49m\u001b[43mmerge_save\u001b[49m\u001b[43m(\u001b[49m\u001b[43mds_power\u001b[49m\u001b[43m,\u001b[49m\u001b[43m \u001b[49m\u001b[43mds_invariant_power\u001b[49m\u001b[43m)\u001b[49m\n\u001b[1;32m   1165\u001b[0m \u001b[38;5;66;03m# Manipulate some Dataset dimensions to adhere to convention\u001b[39;00m\n\u001b[1;32m   1166\u001b[0m \u001b[38;5;28;01mif\u001b[39;00m \u001b[38;5;28misinstance\u001b[39m(ds_beam_power, xr\u001b[38;5;241m.\u001b[39mDataset):\n",
            "File \u001b[0;32m~/echopype/echopype/convert/set_groups_ek80.py:1072\u001b[0m, in \u001b[0;36mSetGroupsEK80.merge_save\u001b[0;34m(ds_combine, ds_invariant)\u001b[0m\n\u001b[1;32m   1067\u001b[0m ds_combine \u001b[38;5;241m=\u001b[39m xr\u001b[38;5;241m.\u001b[39mconcat(ds_combine, dim\u001b[38;5;241m=\u001b[39m\u001b[38;5;124m\"\u001b[39m\u001b[38;5;124mchannel\u001b[39m\u001b[38;5;124m\"\u001b[39m)\n\u001b[1;32m   1069\u001b[0m ds_combine \u001b[38;5;241m=\u001b[39m xr\u001b[38;5;241m.\u001b[39mmerge(\n\u001b[1;32m   1070\u001b[0m     [ds_invariant, ds_combine], combine_attrs\u001b[38;5;241m=\u001b[39m\u001b[38;5;124m\"\u001b[39m\u001b[38;5;124moverride\u001b[39m\u001b[38;5;124m\"\u001b[39m\n\u001b[1;32m   1071\u001b[0m )  \u001b[38;5;66;03m# override keeps the Dataset attributes\u001b[39;00m\n\u001b[0;32m-> 1072\u001b[0m \u001b[38;5;28;01mreturn\u001b[39;00m \u001b[43mset_time_encodings\u001b[49m\u001b[43m(\u001b[49m\u001b[43mds_combine\u001b[49m\u001b[43m)\u001b[49m\n",
            "File \u001b[0;32m~/echopype/echopype/utils/coding.py:127\u001b[0m, in \u001b[0;36mset_time_encodings\u001b[0;34m(ds)\u001b[0m\n\u001b[1;32m    123\u001b[0m \u001b[38;5;28;01mdef\u001b[39;00m \u001b[38;5;21mset_time_encodings\u001b[39m(ds: xr\u001b[38;5;241m.\u001b[39mDataset) \u001b[38;5;241m-\u001b[39m\u001b[38;5;241m>\u001b[39m xr\u001b[38;5;241m.\u001b[39mDataset:\n\u001b[1;32m    124\u001b[0m \u001b[38;5;250m    \u001b[39m\u001b[38;5;124;03m\"\"\"\u001b[39;00m\n\u001b[1;32m    125\u001b[0m \u001b[38;5;124;03m    Set the default encoding for variables.\u001b[39;00m\n\u001b[1;32m    126\u001b[0m \u001b[38;5;124;03m    \"\"\"\u001b[39;00m\n\u001b[0;32m--> 127\u001b[0m     new_ds \u001b[38;5;241m=\u001b[39m \u001b[43mds\u001b[49m\u001b[38;5;241;43m.\u001b[39;49m\u001b[43mcopy\u001b[49m\u001b[43m(\u001b[49m\u001b[43mdeep\u001b[49m\u001b[38;5;241;43m=\u001b[39;49m\u001b[38;5;28;43;01mTrue\u001b[39;49;00m\u001b[43m)\u001b[49m\n\u001b[1;32m    128\u001b[0m     \u001b[38;5;28;01mfor\u001b[39;00m var, encoding \u001b[38;5;129;01min\u001b[39;00m DEFAULT_ENCODINGS\u001b[38;5;241m.\u001b[39mitems():\n\u001b[1;32m    129\u001b[0m         \u001b[38;5;28;01mif\u001b[39;00m var \u001b[38;5;129;01min\u001b[39;00m new_ds:\n",
            "File \u001b[0;32m~/miniforge3/envs/echopype/lib/python3.9/site-packages/xarray/core/dataset.py:1364\u001b[0m, in \u001b[0;36mDataset.copy\u001b[0;34m(self, deep, data)\u001b[0m\n\u001b[1;32m   1267\u001b[0m \u001b[38;5;28;01mdef\u001b[39;00m \u001b[38;5;21mcopy\u001b[39m(\u001b[38;5;28mself\u001b[39m, deep: \u001b[38;5;28mbool\u001b[39m \u001b[38;5;241m=\u001b[39m \u001b[38;5;28;01mFalse\u001b[39;00m, data: DataVars \u001b[38;5;241m|\u001b[39m \u001b[38;5;28;01mNone\u001b[39;00m \u001b[38;5;241m=\u001b[39m \u001b[38;5;28;01mNone\u001b[39;00m) \u001b[38;5;241m-\u001b[39m\u001b[38;5;241m>\u001b[39m Self:\n\u001b[1;32m   1268\u001b[0m \u001b[38;5;250m    \u001b[39m\u001b[38;5;124;03m\"\"\"Returns a copy of this dataset.\u001b[39;00m\n\u001b[1;32m   1269\u001b[0m \n\u001b[1;32m   1270\u001b[0m \u001b[38;5;124;03m    If `deep=True`, a deep copy is made of each of the component variables.\u001b[39;00m\n\u001b[0;32m   (...)\u001b[0m\n\u001b[1;32m   1362\u001b[0m \u001b[38;5;124;03m    pandas.DataFrame.copy\u001b[39;00m\n\u001b[1;32m   1363\u001b[0m \u001b[38;5;124;03m    \"\"\"\u001b[39;00m\n\u001b[0;32m-> 1364\u001b[0m     \u001b[38;5;28;01mreturn\u001b[39;00m \u001b[38;5;28;43mself\u001b[39;49m\u001b[38;5;241;43m.\u001b[39;49m\u001b[43m_copy\u001b[49m\u001b[43m(\u001b[49m\u001b[43mdeep\u001b[49m\u001b[38;5;241;43m=\u001b[39;49m\u001b[43mdeep\u001b[49m\u001b[43m,\u001b[49m\u001b[43m \u001b[49m\u001b[43mdata\u001b[49m\u001b[38;5;241;43m=\u001b[39;49m\u001b[43mdata\u001b[49m\u001b[43m)\u001b[49m\n",
            "File \u001b[0;32m~/miniforge3/envs/echopype/lib/python3.9/site-packages/xarray/core/dataset.py:1400\u001b[0m, in \u001b[0;36mDataset._copy\u001b[0;34m(self, deep, data, memo)\u001b[0m\n\u001b[1;32m   1398\u001b[0m         variables[k] \u001b[38;5;241m=\u001b[39m index_vars[k]\n\u001b[1;32m   1399\u001b[0m     \u001b[38;5;28;01melse\u001b[39;00m:\n\u001b[0;32m-> 1400\u001b[0m         variables[k] \u001b[38;5;241m=\u001b[39m \u001b[43mv\u001b[49m\u001b[38;5;241;43m.\u001b[39;49m\u001b[43m_copy\u001b[49m\u001b[43m(\u001b[49m\u001b[43mdeep\u001b[49m\u001b[38;5;241;43m=\u001b[39;49m\u001b[43mdeep\u001b[49m\u001b[43m,\u001b[49m\u001b[43m \u001b[49m\u001b[43mdata\u001b[49m\u001b[38;5;241;43m=\u001b[39;49m\u001b[43mdata\u001b[49m\u001b[38;5;241;43m.\u001b[39;49m\u001b[43mget\u001b[49m\u001b[43m(\u001b[49m\u001b[43mk\u001b[49m\u001b[43m)\u001b[49m\u001b[43m,\u001b[49m\u001b[43m \u001b[49m\u001b[43mmemo\u001b[49m\u001b[38;5;241;43m=\u001b[39;49m\u001b[43mmemo\u001b[49m\u001b[43m)\u001b[49m\n\u001b[1;32m   1402\u001b[0m attrs \u001b[38;5;241m=\u001b[39m copy\u001b[38;5;241m.\u001b[39mdeepcopy(\u001b[38;5;28mself\u001b[39m\u001b[38;5;241m.\u001b[39m_attrs, memo) \u001b[38;5;28;01mif\u001b[39;00m deep \u001b[38;5;28;01melse\u001b[39;00m copy\u001b[38;5;241m.\u001b[39mcopy(\u001b[38;5;28mself\u001b[39m\u001b[38;5;241m.\u001b[39m_attrs)\n\u001b[1;32m   1403\u001b[0m encoding \u001b[38;5;241m=\u001b[39m (\n\u001b[1;32m   1404\u001b[0m     copy\u001b[38;5;241m.\u001b[39mdeepcopy(\u001b[38;5;28mself\u001b[39m\u001b[38;5;241m.\u001b[39m_encoding, memo) \u001b[38;5;28;01mif\u001b[39;00m deep \u001b[38;5;28;01melse\u001b[39;00m copy\u001b[38;5;241m.\u001b[39mcopy(\u001b[38;5;28mself\u001b[39m\u001b[38;5;241m.\u001b[39m_encoding)\n\u001b[1;32m   1405\u001b[0m )\n",
            "File \u001b[0;32m~/miniforge3/envs/echopype/lib/python3.9/site-packages/xarray/core/variable.py:924\u001b[0m, in \u001b[0;36mVariable._copy\u001b[0;34m(self, deep, data, memo)\u001b[0m\n\u001b[1;32m    921\u001b[0m         ndata \u001b[38;5;241m=\u001b[39m indexing\u001b[38;5;241m.\u001b[39mMemoryCachedArray(data_old\u001b[38;5;241m.\u001b[39marray)  \u001b[38;5;66;03m# type: ignore[assignment]\u001b[39;00m\n\u001b[1;32m    923\u001b[0m     \u001b[38;5;28;01mif\u001b[39;00m deep:\n\u001b[0;32m--> 924\u001b[0m         ndata \u001b[38;5;241m=\u001b[39m \u001b[43mcopy\u001b[49m\u001b[38;5;241;43m.\u001b[39;49m\u001b[43mdeepcopy\u001b[49m\u001b[43m(\u001b[49m\u001b[43mndata\u001b[49m\u001b[43m,\u001b[49m\u001b[43m \u001b[49m\u001b[43mmemo\u001b[49m\u001b[43m)\u001b[49m\n\u001b[1;32m    926\u001b[0m \u001b[38;5;28;01melse\u001b[39;00m:\n\u001b[1;32m    927\u001b[0m     ndata \u001b[38;5;241m=\u001b[39m as_compatible_data(data)\n",
            "File \u001b[0;32m~/miniforge3/envs/echopype/lib/python3.9/copy.py:153\u001b[0m, in \u001b[0;36mdeepcopy\u001b[0;34m(x, memo, _nil)\u001b[0m\n\u001b[1;32m    151\u001b[0m copier \u001b[38;5;241m=\u001b[39m \u001b[38;5;28mgetattr\u001b[39m(x, \u001b[38;5;124m\"\u001b[39m\u001b[38;5;124m__deepcopy__\u001b[39m\u001b[38;5;124m\"\u001b[39m, \u001b[38;5;28;01mNone\u001b[39;00m)\n\u001b[1;32m    152\u001b[0m \u001b[38;5;28;01mif\u001b[39;00m copier \u001b[38;5;129;01mis\u001b[39;00m \u001b[38;5;129;01mnot\u001b[39;00m \u001b[38;5;28;01mNone\u001b[39;00m:\n\u001b[0;32m--> 153\u001b[0m     y \u001b[38;5;241m=\u001b[39m \u001b[43mcopier\u001b[49m\u001b[43m(\u001b[49m\u001b[43mmemo\u001b[49m\u001b[43m)\u001b[49m\n\u001b[1;32m    154\u001b[0m \u001b[38;5;28;01melse\u001b[39;00m:\n\u001b[1;32m    155\u001b[0m     reductor \u001b[38;5;241m=\u001b[39m dispatch_table\u001b[38;5;241m.\u001b[39mget(\u001b[38;5;28mcls\u001b[39m)\n",
            "\u001b[0;31mKeyboardInterrupt\u001b[0m: "
          ]
        }
      ],
      "source": [
        "for raw_file in tqdm(raw_file_list):\n",
        "    try:\n",
        "        ed = ep.open_raw(\n",
        "            raw_file=f\"s3://{raw_file}\",\n",
        "            sonar_model=\"EK80\",\n",
        "            storage_options={\n",
        "                \"key\": config[\"hake_osn\"][\"osn_access_key_id\"],\n",
        "                \"secret\": config[\"hake_osn\"][\"osn_secret_access_key\"],\n",
        "                \"endpoint_url\": \"https://sdsc.osn.xsede.org\",\n",
        "            },\n",
        "        )\n",
        "    except Warning as w:\n",
        "        print(f\"Warning encountered with file: {raw_file}\")\n",
        "        print(f\"Warning details: {w}\")"
      ]
    }
  ],
  "metadata": {
    "kernelspec": {
      "display_name": "echopype",
      "language": "python",
      "name": "python3"
    },
    "language_info": {
      "codemirror_mode": {
        "name": "ipython",
        "version": 3
      },
      "file_extension": ".py",
      "mimetype": "text/x-python",
      "name": "python",
      "nbconvert_exporter": "python",
      "pygments_lexer": "ipython3",
      "version": "3.9.19"
    }
  },
  "nbformat": 4,
  "nbformat_minor": 2
}
